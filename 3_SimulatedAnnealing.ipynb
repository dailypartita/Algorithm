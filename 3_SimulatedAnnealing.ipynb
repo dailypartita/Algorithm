{
 "cells": [
  {
   "cell_type": "code",
   "execution_count": 3,
   "metadata": {},
   "outputs": [
    {
     "name": "stdout",
     "output_type": "stream",
     "text": [
      "max:  5\n",
      "path(end to start):  DOWN -> RIGHT -> RIGHT -> RIGHT -> DOWN -> RIGHT -> RIGHT -> DOWN_TO_END\n"
     ]
    }
   ],
   "source": [
    "import numpy as np\n",
    "\n",
    "ans  = []\n",
    "ans_temp = []\n",
    "path = []\n",
    "path_temp = []\n",
    "\n",
    "p = 0.99\n",
    "Temperature_init = 100\n",
    "Temperature_change = -10\n",
    "Temperature_min  = 10\n",
    "Energy_fix = 0.1\n",
    "\n",
    "def simulatedAnnealing(M,\n",
    "                       Temperature_init=Temperature_init,\n",
    "                       Temperature_change=Temperature_change,\n",
    "                       Temperature_min=Temperature_min,\n",
    "                       Energy_fix=Energy_fix,\n",
    "                       p=p,\n",
    "                       Temperature_now=Temperature_init, i=0, j=0):\n",
    "    global ans, path, ans_temp, path_temp\n",
    "    n, m = len(M[:, 0]), len(M[0, :])\n",
    "    while Temperature_now > Temperature_min:\n",
    "        Temperature_now += Temperature_change\n",
    "        Energy = ((Temperature_init-Temperature_now)/Temperature_init)*Energy_fix\n",
    "        if i < n-1 and j < m-1:\n",
    "            if M[i+1, j] == M[i, j+1]:\n",
    "                if np.random.random() > 0.5:\n",
    "                    path_temp.append(\"RIGHT\")\n",
    "                    ans_temp.append(M[i, j+1])\n",
    "                    simulatedAnnealing(M=M_test, Temperature_now=Temperature_now, i=i, j=j+1)\n",
    "                else:\n",
    "                    path_temp.append(\"DOWN\")\n",
    "                    ans_temp.append(M[i+1, j])\n",
    "                    simulatedAnnealing(M=M_test, Temperature_now=Temperature_now, i=i+1, j=j)\n",
    "            elif M[i+1, j] < M[i, j+1] and (p - Energy) > np.random.random():\n",
    "                path_temp.append(\"RIGHT\")\n",
    "                ans_temp.append(M[i, j+1])\n",
    "                simulatedAnnealing(M=M_test, Temperature_now=Temperature_now, i=i, j=j+1)\n",
    "            else:\n",
    "                path_temp.append(\"DOWN\")\n",
    "                ans_temp.append(M[i+1, j])\n",
    "                simulatedAnnealing(M=M_test, Temperature_now=Temperature_now, i=i+1, j=j)\n",
    "        if i == n-1:\n",
    "            path_temp.append(\"RIGHT_TO_END\")\n",
    "            ans_temp.append(sum(M[i, j+1:]))\n",
    "        if j == m-1:\n",
    "            path_temp.append(\"DOWN_TO_END\")\n",
    "            ans_temp.append(sum(M[i+1:, j]))\n",
    "        if sum(ans_temp) > sum(ans):\n",
    "            ans = ans_temp\n",
    "            path= path_temp\n",
    "            ans_temp, path_temp = [], []\n",
    "        else:\n",
    "            ans_temp, path_temp = [], []\n",
    "    else:\n",
    "        return ans, path\n",
    "\n",
    "if __name__ == '__main__':\n",
    "    M_test  = np.array([[0, 0, 0, 0, 1, 0],\n",
    "                        [0, 1, 0, 1, 0, 0],\n",
    "                        [0, 0, 0, 1, 0, 1],\n",
    "                        [0, 0, 1, 0, 0, 1],\n",
    "                        [1, 0, 0, 0, 1, 0]])\n",
    "    result = simulatedAnnealing(M=M_test)\n",
    "    print('max: ', sum(result[0]))\n",
    "    print('path(end to start): ', ' -> '.join(result[1]))"
   ]
  }
 ],
 "metadata": {
  "interpreter": {
   "hash": "95643d4d4e4a4902c48e309b77b39b80799454f5ef74927a055f47ee0b98e83e"
  },
  "kernelspec": {
   "display_name": "Python 3.8.8 ('base')",
   "language": "python",
   "name": "python3"
  },
  "language_info": {
   "codemirror_mode": {
    "name": "ipython",
    "version": 3
   },
   "file_extension": ".py",
   "mimetype": "text/x-python",
   "name": "python",
   "nbconvert_exporter": "python",
   "pygments_lexer": "ipython3",
   "version": "3.8.8"
  },
  "orig_nbformat": 4
 },
 "nbformat": 4,
 "nbformat_minor": 2
}
