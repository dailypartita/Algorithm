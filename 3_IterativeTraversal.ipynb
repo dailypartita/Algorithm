{
 "cells": [
  {
   "cell_type": "code",
   "execution_count": 3,
   "metadata": {},
   "outputs": [
    {
     "name": "stdout",
     "output_type": "stream",
     "text": [
      "max:  5\n",
      "path(end to start):  UP -> UP -> LEFT -> LEFT -> UP -> LEFT -> LEFT -> LEFT/UP -> UP/LEFT\n"
     ]
    }
   ],
   "source": [
    "import numpy as np\n",
    "\n",
    "def iterativeTraversal(M):\n",
    "    M = np.insert(M, 0, values=np.zeros((1, len(M[:, 0]))), axis=1)\n",
    "    M = np.insert(M, 0, values=np.zeros((1, len(M[0, :]))), axis=0)\n",
    "    n, m = len(M[:, 0]), len(M[0, :])\n",
    "    F = M.copy()\n",
    "    for j in range(2, m):\n",
    "        F[1, j] = F[1, j-1] + M[1,j]\n",
    "    for i in range(2, n):\n",
    "        F[i, 1] = F[i-1, 1] + M[i,1]\n",
    "        for j in range(2, m):\n",
    "            F[i,j] = max(F[i-1, j], F[i, j-1]) + M[i,j]\n",
    "\n",
    "    x, y = n-1, m-1\n",
    "    path = []\n",
    "    while x>1 and y>1:\n",
    "        if F[x-1, y] > F[x, y-1]:\n",
    "            x -= 1\n",
    "            path.append('UP')\n",
    "        elif F[x-1, y] < F[x, y-1]:\n",
    "            y -= 1\n",
    "            path.append('LEFT')\n",
    "        else:\n",
    "            x -= 1\n",
    "            y -= 1\n",
    "            path.append('LEFT/UP')\n",
    "            path.append('UP/LEFT')\n",
    "    ans = F[n-1,m-1]\n",
    "    return ans, path\n",
    "\n",
    "if __name__ == '__main__':\n",
    "    M_test  = np.array([[0, 0, 0, 0, 1, 0],\n",
    "                        [0, 1, 0, 1, 0, 0],\n",
    "                        [0, 0, 0, 1, 0, 1],\n",
    "                        [0, 0, 1, 0, 0, 1],\n",
    "                        [1, 0, 0, 0, 1, 0]])\n",
    "    result = iterativeTraversal(M_test)\n",
    "    print('max: ', result[0])\n",
    "    print('path(end to start): ', ' -> '.join(result[1]))"
   ]
  }
 ],
 "metadata": {
  "interpreter": {
   "hash": "95643d4d4e4a4902c48e309b77b39b80799454f5ef74927a055f47ee0b98e83e"
  },
  "kernelspec": {
   "display_name": "Python 3.8.8 ('base')",
   "language": "python",
   "name": "python3"
  },
  "language_info": {
   "codemirror_mode": {
    "name": "ipython",
    "version": 3
   },
   "file_extension": ".py",
   "mimetype": "text/x-python",
   "name": "python",
   "nbconvert_exporter": "python",
   "pygments_lexer": "ipython3",
   "version": "3.8.8"
  },
  "orig_nbformat": 4
 },
 "nbformat": 4,
 "nbformat_minor": 2
}
