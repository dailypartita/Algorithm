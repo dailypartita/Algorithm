{
 "cells": [
  {
   "cell_type": "code",
   "execution_count": 3,
   "metadata": {},
   "outputs": [
    {
     "name": "stdout",
     "output_type": "stream",
     "text": [
      "max:  5\n",
      "path(start to end):  RIGHT -> DOWN -> RIGHT -> RIGHT -> DOWN -> RIGHT -> RIGHT -> DOWN_TO_END\n"
     ]
    }
   ],
   "source": [
    "import numpy as np\n",
    "\n",
    "def GreedyAlgorithm(M, i=0, j=0):\n",
    "    n, m = len(M[:, 0]), len(M[0, :])\n",
    "    if i < n-1 and j < m-1:\n",
    "        if M[i+1, j] == M[i, j+1]:\n",
    "            path.append(\"RIGHT\")\n",
    "            ans.append(M[i, j+1])\n",
    "            GreedyAlgorithm(M, i, j+1)\n",
    "        elif M[i+1, j] < M[i, j+1]:\n",
    "            path.append(\"RIGHT\")\n",
    "            ans.append(M[i, j+1])\n",
    "            GreedyAlgorithm(M, i, j+1)\n",
    "        else:\n",
    "            path.append(\"DOWN\")\n",
    "            ans.append(M[i+1, j])\n",
    "            GreedyAlgorithm(M, i+1, j)\n",
    "    if i == n-1:\n",
    "        path.append(\"RIGHT_TO_END\")\n",
    "        return ans.append(sum(M[i, j+1:]))\n",
    "    if j == m-1:\n",
    "        path.append(\"DOWN_TO_END\")\n",
    "        return ans.append(sum(M[i+1:, j]))\n",
    "\n",
    "if __name__ == '__main__':\n",
    "\n",
    "    global ans, path\n",
    "    ans  = []\n",
    "    path = []\n",
    "\n",
    "    M_test  = np.array([[0, 0, 0, 0, 1, 0],\n",
    "                        [0, 1, 0, 1, 0, 0],\n",
    "                        [0, 0, 0, 1, 0, 1],\n",
    "                        [0, 0, 1, 0, 0, 1],\n",
    "                        [1, 0, 0, 0, 1, 0]])\n",
    "    GreedyAlgorithm(M=M_test)\n",
    "    print('max: ', sum(ans))\n",
    "    print('path(start to end): ', ' -> '.join(path))\n"
   ]
  }
 ],
 "metadata": {
  "interpreter": {
   "hash": "95643d4d4e4a4902c48e309b77b39b80799454f5ef74927a055f47ee0b98e83e"
  },
  "kernelspec": {
   "display_name": "Python 3.8.8 ('base')",
   "language": "python",
   "name": "python3"
  },
  "language_info": {
   "codemirror_mode": {
    "name": "ipython",
    "version": 3
   },
   "file_extension": ".py",
   "mimetype": "text/x-python",
   "name": "python",
   "nbconvert_exporter": "python",
   "pygments_lexer": "ipython3",
   "version": "3.8.8"
  },
  "orig_nbformat": 4
 },
 "nbformat": 4,
 "nbformat_minor": 2
}
