{
 "cells": [
  {
   "cell_type": "code",
   "execution_count": 23,
   "metadata": {},
   "outputs": [
    {
     "name": "stdout",
     "output_type": "stream",
     "text": [
      "max:  5\n",
      "path(start to end):  DOWN -> RIGHT -> RIGHT -> RIGHT -> DOWN -> RIGHT -> RIGHT -> DOWN -> DOWN\n"
     ]
    }
   ],
   "source": [
    "import numpy as np\n",
    "\n",
    "def bruteForce(M):\n",
    "\tn, m = len(M[:, 0]), len(M[0, :])\n",
    "\tpath_temp = ['DOWN'] * (n-1) + ['RIGHT'] * (m-1)\n",
    "\tglobal path_aval\n",
    "\tpath_aval  = []\n",
    "\tans = 0\n",
    "\tpath = []\n",
    "\tdef permutations(arr, position, end):\n",
    "\t\tif position == end:\n",
    "\t\t\tif arr not in path_aval:\n",
    "\t\t\t\tpath_aval.append(arr.copy())\n",
    "\t\telse:\n",
    "\t\t\tfor index in range(position, end):\n",
    "\t\t\t\tarr[index], arr[position] = arr[position], arr[index]\n",
    "\t\t\t\tpermutations(arr, position+1, end)\n",
    "\t\t\t\tarr[index], arr[position] = arr[position], arr[index]\n",
    "\tpermutations(path_temp, 0, len(path_temp))\n",
    "\tfor path_each in path_aval:\n",
    "\t\ti, j = 0, 0\n",
    "\t\tF = M[0,0]\n",
    "\t\tfor step in path_each:\n",
    "\t\t\tif step == 'DOWN':\n",
    "\t\t\t\ti += 1\n",
    "\t\t\telif step == 'RIGHT':\n",
    "\t\t\t\tj += 1\n",
    "\t\t\tF += M[i,j]\n",
    "\t\tif F > ans:\n",
    "\t\t\tans = F\n",
    "\t\t\tpath = path_each\n",
    "\treturn ans, path\n",
    "\n",
    "if __name__ == '__main__':\n",
    "\tM_test  = np.array([[0, 0, 0, 0, 1, 0],\n",
    "\t\t\t\t\t\t[0, 1, 0, 1, 0, 0],\n",
    "\t\t\t\t\t\t[0, 0, 0, 1, 0, 1],\n",
    "\t\t\t\t\t\t[0, 0, 1, 0, 0, 1],\n",
    "\t\t\t\t\t\t[1, 0, 0, 0, 1, 0]])\n",
    "\tresult = bruteForce(M_test)\n",
    "\tprint('max: ', result[0])\n",
    "\tprint('path(start to end): ', ' -> '.join(result[1]))\n"
   ]
  }
 ],
 "metadata": {
  "interpreter": {
   "hash": "95643d4d4e4a4902c48e309b77b39b80799454f5ef74927a055f47ee0b98e83e"
  },
  "kernelspec": {
   "display_name": "Python 3.8.8 ('base')",
   "language": "python",
   "name": "python3"
  },
  "language_info": {
   "codemirror_mode": {
    "name": "ipython",
    "version": 3
   },
   "file_extension": ".py",
   "mimetype": "text/x-python",
   "name": "python",
   "nbconvert_exporter": "python",
   "pygments_lexer": "ipython3",
   "version": "3.8.8"
  },
  "orig_nbformat": 4
 },
 "nbformat": 4,
 "nbformat_minor": 2
}
